{
 "cells": [
  {
   "cell_type": "markdown",
   "id": "3c3659ea-b6f7-4b40-8c03-f09e1c5ce46f",
   "metadata": {},
   "source": [
    "# Homework lesson1"
   ]
  },
  {
   "cell_type": "code",
   "execution_count": 4,
   "id": "05b7997e-f7ce-4e85-b10c-954298dec139",
   "metadata": {
    "scrolled": true
   },
   "outputs": [
    {
     "name": "stdout",
     "output_type": "stream",
     "text": [
      "tam hisse:  3\n",
      "qaliq hisse:  3\n"
     ]
    }
   ],
   "source": [
    "#1. 15 ve 4 ededlerinin bolunmesinden alinan tam ve qaliq hisseni gosterin\n",
    "tam_hisse = 15 // 4\n",
    "qaliq_hisse = 15 % 4\n",
    "\n",
    "print('tam hisse: ', tam_hisse)\n",
    "print('qaliq hisse: ', qaliq_hisse)"
   ]
  },
  {
   "cell_type": "code",
   "execution_count": 20,
   "id": "af38b96c-c49f-4d25-874b-0c2ec8a73aa4",
   "metadata": {},
   "outputs": [
    {
     "name": "stdout",
     "output_type": "stream",
     "text": [
      "We have 10 small, 12 large, and 12 medium boxes. Small boxes quantity is 10.\n",
      "The value 8 times of 3.14 is 25.13\n",
      "The value a times of pi is 25.13\n",
      "The value 8 times of 3.14 is 25.13\n",
      "The value a times of pi is 25.13\n"
     ]
    }
   ],
   "source": [
    "#2. format() ve f string metodun istifade ederek ashaqidaki cumleleri print edin.\n",
    "#We have 10 small, 12 large, and 12 medium boxes. Small boxes quantity is 10.\n",
    "#a=8 , pi= 3.14159\n",
    "#The value a times of pi is 25.13\n",
    "\n",
    "#format method\n",
    "sentence1 = 'We have {0} small, {1} large, and {1} medium boxes. Small boxes quantity is 10.'.format(10,12)\n",
    "print(sentence1)\n",
    "\n",
    "a = 8\n",
    "pi = 3.14159\n",
    "sentence2 = 'The value {0} times of {1:0.2f} is {2:0.2f}'.format(a,pi,a*pi)\n",
    "sentence3 = 'The value a times of pi is {:0.2f}'.format(a*pi)\n",
    "print(sentence2)\n",
    "print(sentence3)\n",
    "\n",
    "#f string method\n",
    "sentence4 = f\"The value {a} times of {pi:0.2f} is {a*pi:0.2f}\"\n",
    "sentence5 = f'The value a times of pi is {a*pi:0.2f}'\n",
    "print(sentence4)\n",
    "print(sentence5)"
   ]
  },
  {
   "cell_type": "code",
   "execution_count": 35,
   "id": "790b08bf-76e6-4683-a1c2-3f018d5371ee",
   "metadata": {},
   "outputs": [
    {
     "name": "stdout",
     "output_type": "stream",
     "text": [
      "--python--\n"
     ]
    }
   ],
   "source": [
    "#3. Verilmish 2 sozden ashaqidaki neticeni alin.\n",
    "#chars = \"----\"\n",
    "#word = \"python\"\n",
    "#Netice: --python--\n",
    "\n",
    "chars = \"----\"\n",
    "word = \"python\"\n",
    "netice = chars[:2] + word + chars[2:]\n",
    "print(netice)"
   ]
  },
  {
   "cell_type": "code",
   "execution_count": 46,
   "id": "e0b1c46e-7040-42a4-a5f1-6b01487b1988",
   "metadata": {},
   "outputs": [
    {
     "name": "stdout",
     "output_type": "stream",
     "text": [
      "achineLarning\n"
     ]
    }
   ],
   "source": [
    "# 4.word1 ve word2 variable-larin birleshmesinden ashaqidaki neticeni alin\n",
    "# word1 = \"Machine\"\n",
    "# word2 = \"Learning\"\n",
    "# Expected Result Printed: achineLarning\n",
    "\n",
    "\n",
    "word1 = \"Machine\"\n",
    "word2 = \"Learning\"\n",
    "result = word1[1:] + word2[0] + word2[2:]\n",
    "print(result)"
   ]
  },
  {
   "cell_type": "code",
   "execution_count": 60,
   "id": "e0787d1c-f346-4d2a-ba64-17bf54a115ba",
   "metadata": {},
   "outputs": [
    {
     "name": "stdout",
     "output_type": "stream",
     "text": [
      "Original string:  hello123\n",
      "Uppercase:  HELLO123\n",
      "Lowercase:  hello123\n",
      "Capitalized:  Hello123\n",
      "Is digit:  False\n",
      "Is all lowercase:  True\n",
      "Is alphanumeric:  True\n",
      "\n",
      "Original string:  PYTHON\n",
      "Uppercase:  PYTHON\n",
      "Lowercase:  python\n",
      "Capitalized:  Python\n",
      "Is digit:  False\n",
      "Is all lowercase:  False\n",
      "Is alphanumeric:  True\n",
      "\n",
      "Original string:  12345\n",
      "Uppercase:  12345\n",
      "Lowercase:  12345\n",
      "Capitalized:  12345\n",
      "Is digit:  True\n",
      "Is all lowercase:  False\n",
      "Is alphanumeric:  True\n"
     ]
    }
   ],
   "source": [
    "#5. string1 = \"hello123\" string2 = \"PYTHON\" string3 = \"12345\"\n",
    "#Qeyd edilen variable-lar uchun ashaqidaki tapshiriqlari edin\n",
    "#Sozun ozunu, Uppercase, Lowercase, Capitalized, isdigit, islower, isalnum print ederek gosterin.\n",
    "#Example output ashaqidaki kimidir:\n",
    "\n",
    "#Original string: 'hello123'\n",
    "#Uppercase: HELLO123\n",
    "#Lowercase: hello123\n",
    "#Capitalized: Hello123\n",
    "#Is digit: False\n",
    "#Is all lowercase: True\n",
    "#Is alphanumeric: True\n",
    "\n",
    "string1 = \"hello123\" \n",
    "string2 = \"PYTHON\" \n",
    "string3 = \"12345\"\n",
    "\n",
    "print('Original string: ', string1)\n",
    "print('Uppercase: ', string1.upper())\n",
    "print('Lowercase: ', string1.lower())\n",
    "print('Capitalized: ', string1.capitalize())\n",
    "print('Is digit: ', string1.isdigit())\n",
    "print('Is all lowercase: ', string1.islower())\n",
    "print('Is alphanumeric: ', string1.isalnum())\n",
    "print()\n",
    "\n",
    "print('Original string: ', string2)\n",
    "print('Uppercase: ', string2.upper())\n",
    "print('Lowercase: ', string2.lower())\n",
    "print('Capitalized: ', string2.capitalize())\n",
    "print('Is digit: ', string2.isdigit())\n",
    "print('Is all lowercase: ', string2.islower())\n",
    "print('Is alphanumeric: ', string2.isalnum())\n",
    "print()\n",
    "\n",
    "print('Original string: ', string3)\n",
    "print('Uppercase: ', string3.upper())\n",
    "print('Lowercase: ', string3.lower())\n",
    "print('Capitalized: ', string3.capitalize())\n",
    "print('Is digit: ', string3.isdigit())\n",
    "print('Is all lowercase: ', string3.islower())\n",
    "print('Is alphanumeric: ', string3.isalnum())\n"
   ]
  },
  {
   "cell_type": "markdown",
   "id": "36e65173-e482-4ac9-85f0-37a79f056d94",
   "metadata": {},
   "source": [
    "## Bonus"
   ]
  },
  {
   "cell_type": "code",
   "execution_count": 73,
   "id": "689943b0-850b-41bb-b67d-a939f5dab8e3",
   "metadata": {},
   "outputs": [
    {
     "name": "stdout",
     "output_type": "stream",
     "text": [
      "Original string:  hello123\n",
      "Uppercase:  HELLO123\n",
      "Lowercase:  hello123\n",
      "Capitalized:  Hello123\n",
      "Is digit:  False\n",
      "Is all lowercase:  True\n",
      "Is alphanumeric:  True\n",
      " \n",
      "Original string:  PYTHON\n",
      "Uppercase:  PYTHON\n",
      "Lowercase:  python\n",
      "Capitalized:  Python\n",
      "Is digit:  False\n",
      "Is all lowercase:  False\n",
      "Is alphanumeric:  True\n",
      " \n",
      "Original string:  12345\n",
      "Uppercase:  12345\n",
      "Lowercase:  12345\n",
      "Capitalized:  12345\n",
      "Is digit:  True\n",
      "Is all lowercase:  False\n",
      "Is alphanumeric:  True\n",
      " \n"
     ]
    }
   ],
   "source": [
    "# creating function for task5\n",
    "def information_func(value):\n",
    "    print('Original string: ', value)\n",
    "    print('Uppercase: ', value.upper())\n",
    "    print('Lowercase: ', value.lower())\n",
    "    print('Capitalized: ', value.capitalize())\n",
    "    print('Is digit: ', value.isdigit())\n",
    "    print('Is all lowercase: ', value.islower())\n",
    "    print('Is alphanumeric: ', value.isalnum())\n",
    "    print(' ')\n",
    "    \n",
    "information_func('hello123')\n",
    "information_func('PYTHON')\n",
    "information_func('12345')"
   ]
  },
  {
   "cell_type": "code",
   "execution_count": null,
   "id": "072c216c-69d8-4129-b778-cb47bca4c1b2",
   "metadata": {},
   "outputs": [],
   "source": []
  }
 ],
 "metadata": {
  "kernelspec": {
   "display_name": "Python 3 (ipykernel)",
   "language": "python",
   "name": "python3"
  },
  "language_info": {
   "codemirror_mode": {
    "name": "ipython",
    "version": 3
   },
   "file_extension": ".py",
   "mimetype": "text/x-python",
   "name": "python",
   "nbconvert_exporter": "python",
   "pygments_lexer": "ipython3",
   "version": "3.11.7"
  }
 },
 "nbformat": 4,
 "nbformat_minor": 5
}
