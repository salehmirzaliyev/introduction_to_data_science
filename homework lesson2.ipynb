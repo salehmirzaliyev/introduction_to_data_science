{
 "cells": [
  {
   "cell_type": "markdown",
   "id": "a81bf7cb-71e0-49a5-9386-eb930d6fa056",
   "metadata": {},
   "source": [
    "# Assignment 1\r\n",
    "12000 reqemini verilmish listden chixarib print edin\r\n",
    "\r\n",
    "my_list = [{'Tim': 20000, 'Mark': 12000}, ['car', 'laptop', 'TV']]"
   ]
  },
  {
   "cell_type": "code",
   "execution_count": 2,
   "id": "60a15cb7-b6bd-4c62-b31c-7bd846378c2b",
   "metadata": {},
   "outputs": [
    {
     "name": "stdout",
     "output_type": "stream",
     "text": [
      "12000\n"
     ]
    }
   ],
   "source": [
    "# Solution 1\n",
    "my_list = [{'Tim': 20000, 'Mark': 12000}, ['car', 'laptop', 'TV']]\n",
    "my_value = my_list[0]['Mark']\n",
    "print(my_value)"
   ]
  },
  {
   "cell_type": "markdown",
   "id": "0f2ccb10-6a90-473e-9b6c-0165850a2db2",
   "metadata": {},
   "source": [
    "# Assignment 2\n",
    "\n",
    "Ashaqidaki list-de m herfini x ile, ve social sozunu network ile evez edin\n",
    "\n",
    "my_list = [(1, 2), (3, 4), (['c', 'd', 'a', 'm'], [3, 9, 4, 12], 4), 'social', 42]"
   ]
  },
  {
   "cell_type": "code",
   "execution_count": 3,
   "id": "1eb67e60-c1f5-4398-8aaa-dcc32a3413bb",
   "metadata": {},
   "outputs": [
    {
     "name": "stdout",
     "output_type": "stream",
     "text": [
      "[(1, 2), (3, 4), (['c', 'd', 'a', 'x'], [3, 9, 4, 12], 4), 'network', 42]\n"
     ]
    }
   ],
   "source": [
    "# Solution 2\n",
    "my_list = [(1, 2), (3, 4), (['c', 'd', 'a', 'm'], [3, 9, 4, 12], 4), 'social', 42]\n",
    "my_list[2][0][3] = 'x'\n",
    "my_list[3] =  'network'\n",
    "print(my_list)"
   ]
  },
  {
   "cell_type": "markdown",
   "id": "bcb786d7-afa6-45f7-8208-514f1531bd31",
   "metadata": {},
   "source": [
    "# Assignment 3\n",
    "\n",
    "Shekildeki ilk 5 bank uchun dataframe qurun"
   ]
  },
  {
   "cell_type": "code",
   "execution_count": 7,
   "id": "39c45f57-fd57-4805-a45a-ca9d23fa3ae2",
   "metadata": {},
   "outputs": [
    {
     "data": {
      "text/html": [
       "<div>\n",
       "<style scoped>\n",
       "    .dataframe tbody tr th:only-of-type {\n",
       "        vertical-align: middle;\n",
       "    }\n",
       "\n",
       "    .dataframe tbody tr th {\n",
       "        vertical-align: top;\n",
       "    }\n",
       "\n",
       "    .dataframe thead th {\n",
       "        text-align: right;\n",
       "    }\n",
       "</style>\n",
       "<table border=\"1\" class=\"dataframe\">\n",
       "  <thead>\n",
       "    <tr style=\"text-align: right;\">\n",
       "      <th></th>\n",
       "      <th>№</th>\n",
       "      <th>Bankin adi</th>\n",
       "      <th>Mebleg AZN</th>\n",
       "      <th>Muddet</th>\n",
       "      <th>Faiz derecesi</th>\n",
       "      <th>Komissiya</th>\n",
       "    </tr>\n",
       "  </thead>\n",
       "  <tbody>\n",
       "    <tr>\n",
       "      <th>0</th>\n",
       "      <td>1</td>\n",
       "      <td>ABB</td>\n",
       "      <td>15000-dek</td>\n",
       "      <td>48 ayadek</td>\n",
       "      <td>18%</td>\n",
       "      <td>1%</td>\n",
       "    </tr>\n",
       "    <tr>\n",
       "      <th>1</th>\n",
       "      <td>2</td>\n",
       "      <td>Accessbank</td>\n",
       "      <td>30000-dek</td>\n",
       "      <td>48 ayadek</td>\n",
       "      <td>14%</td>\n",
       "      <td>2%</td>\n",
       "    </tr>\n",
       "    <tr>\n",
       "      <th>2</th>\n",
       "      <td>3</td>\n",
       "      <td>AFB bank</td>\n",
       "      <td>30000-dek</td>\n",
       "      <td>48 ayadek</td>\n",
       "      <td>15%</td>\n",
       "      <td>0%</td>\n",
       "    </tr>\n",
       "    <tr>\n",
       "      <th>3</th>\n",
       "      <td>4</td>\n",
       "      <td>ASB</td>\n",
       "      <td>20000-dek</td>\n",
       "      <td>36 ayadek</td>\n",
       "      <td>16%</td>\n",
       "      <td>1%</td>\n",
       "    </tr>\n",
       "    <tr>\n",
       "      <th>4</th>\n",
       "      <td>5</td>\n",
       "      <td>ATB</td>\n",
       "      <td>30000-dek</td>\n",
       "      <td>48 ayadek</td>\n",
       "      <td>18%</td>\n",
       "      <td>1%</td>\n",
       "    </tr>\n",
       "  </tbody>\n",
       "</table>\n",
       "</div>"
      ],
      "text/plain": [
       "   №  Bankin adi Mebleg AZN     Muddet Faiz derecesi Komissiya\n",
       "0  1         ABB  15000-dek  48 ayadek           18%        1%\n",
       "1  2  Accessbank  30000-dek  48 ayadek           14%        2%\n",
       "2  3    AFB bank  30000-dek  48 ayadek           15%        0%\n",
       "3  4         ASB  20000-dek  36 ayadek           16%        1%\n",
       "4  5         ATB  30000-dek  48 ayadek           18%        1%"
      ]
     },
     "execution_count": 7,
     "metadata": {},
     "output_type": "execute_result"
    }
   ],
   "source": [
    "# Solution 3\n",
    "import pandas as pd\n",
    "data = {'№' : [1,2,3,4,5],\n",
    "       'Bankin adi' : ['ABB', 'Accessbank', 'AFB bank', 'ASB', 'ATB'],\n",
    "       'Mebleg AZN' : ['15000-dek', '30000-dek', '30000-dek', '20000-dek', '30000-dek'],\n",
    "       'Muddet' : ['48 ayadek', '48 ayadek', '48 ayadek', '36 ayadek', '48 ayadek'],\n",
    "       'Faiz derecesi' : ['18%', '14%', '15%', '16%', '18%'],\n",
    "       'Komissiya' : ['1%', '2%', '0%', '1%', '1%']}\n",
    "\n",
    "df = pd.DataFrame(data)\n",
    "df"
   ]
  },
  {
   "cell_type": "markdown",
   "id": "734e8ad9-7896-4caa-bf29-59b8e73f24ef",
   "metadata": {},
   "source": [
    "# Assignment 4\n",
    "\n",
    "qeyd olunan list-in orta deyerin (average) hesablayin\n",
    "\n",
    "len() ve sum() funksiyalarindan istifade olunmalidir\n",
    "\n",
    "my_list = [1,2,3,8,7,9]\n",
    "\n",
    "netice 5 olmalidir"
   ]
  },
  {
   "cell_type": "code",
   "execution_count": 13,
   "id": "8b705fb1-6f75-40cb-af1f-cc49575d9379",
   "metadata": {},
   "outputs": [
    {
     "name": "stdout",
     "output_type": "stream",
     "text": [
      "5.0\n"
     ]
    }
   ],
   "source": [
    "# Solution 4\n",
    "my_list = [1,2,3,8,7,9]\n",
    "average = sum(my_list) / len(my_list)\n",
    "print(average)"
   ]
  },
  {
   "cell_type": "code",
   "execution_count": null,
   "id": "4c17bdf1-63a0-4810-8961-eda9b42ae472",
   "metadata": {},
   "outputs": [],
   "source": []
  }
 ],
 "metadata": {
  "kernelspec": {
   "display_name": "Python 3 (ipykernel)",
   "language": "python",
   "name": "python3"
  },
  "language_info": {
   "codemirror_mode": {
    "name": "ipython",
    "version": 3
   },
   "file_extension": ".py",
   "mimetype": "text/x-python",
   "name": "python",
   "nbconvert_exporter": "python",
   "pygments_lexer": "ipython3",
   "version": "3.11.7"
  }
 },
 "nbformat": 4,
 "nbformat_minor": 5
}
